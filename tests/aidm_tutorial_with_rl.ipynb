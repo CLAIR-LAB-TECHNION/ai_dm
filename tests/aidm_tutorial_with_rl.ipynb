{
  "cells": [
    {
      "cell_type": "markdown",
      "metadata": {
        "id": "AKfUNbJG_Pzf"
      },
      "source": [
        "# AIDM\n",
        "\n",
        "This is an introduction to the ai_dm library, which is meant to provide an introduction to the basic approaches to AI decisions making using state space search and planning, RL, MCTS and more."
      ]
    },
    {
      "cell_type": "markdown",
      "metadata": {
        "id": "1uQ6veFK8Wa2"
      },
      "source": [
        "\n",
        "The following command installs our library"
      ]
    },
    {
      "cell_type": "code",
      "execution_count": 2,
      "metadata": {
        "colab": {
          "base_uri": "https://localhost:8080/"
        },
        "id": "Z_y4xKsE51Nw",
        "outputId": "8045c06c-52e1-4f30-8bd8-3fad226828d0"
      },
      "outputs": [
        {
          "output_type": "stream",
          "name": "stdout",
          "text": [
            "Collecting git+https://github.com/CLAIR-LAB-TECHNION/aidm\n",
            "  Cloning https://github.com/CLAIR-LAB-TECHNION/aidm to /tmp/pip-req-build-h43hfrhy\n",
            "  Running command git clone --filter=blob:none --quiet https://github.com/CLAIR-LAB-TECHNION/aidm /tmp/pip-req-build-h43hfrhy\n",
            "  Resolved https://github.com/CLAIR-LAB-TECHNION/aidm to commit f6ae8bebf89b461cdea52769defd051649e79984\n",
            "  Installing build dependencies ... \u001b[?25l\u001b[?25hdone\n",
            "  Getting requirements to build wheel ... \u001b[?25l\u001b[?25hdone\n",
            "  Installing backend dependencies ... \u001b[?25l\u001b[?25hdone\n",
            "  Preparing metadata (pyproject.toml) ... \u001b[?25l\u001b[?25hdone\n",
            "Building wheels for collected packages: aidm\n",
            "  Building wheel for aidm (pyproject.toml) ... \u001b[?25l\u001b[?25hdone\n",
            "  Created wheel for aidm: filename=aidm-0.0.0-py3-none-any.whl size=25446 sha256=030fc75b8055f5aa362784edb6ed52984d55ad1b1e25ac2bbda5be8667324799\n",
            "  Stored in directory: /tmp/pip-ephem-wheel-cache-qxq14r_v/wheels/a0/b2/49/c9435c200208d7986c815b4e2dee7b96d2f747ec15de418163\n",
            "Successfully built aidm\n",
            "Installing collected packages: aidm\n",
            "Successfully installed aidm-0.0.0\n"
          ]
        }
      ],
      "source": [
        "!pip install git+https://github.com/CLAIR-LAB-TECHNION/aidm\n"
      ]
    },
    {
      "cell_type": "markdown",
      "metadata": {
        "id": "RyD5gE4iB3jk"
      },
      "source": [
        "And this command installs OpenAI's gym library which offers a diverse collection of environments to work with"
      ]
    },
    {
      "cell_type": "code",
      "execution_count": 3,
      "metadata": {
        "colab": {
          "base_uri": "https://localhost:8080/"
        },
        "id": "Gb7vbCWjSW6w",
        "outputId": "c00dd8b6-8c45-4426-a336-8fb3d5fb0a23"
      },
      "outputs": [
        {
          "output_type": "stream",
          "name": "stdout",
          "text": [
            "Collecting gym>=0.26\n",
            "  Downloading gym-0.26.2.tar.gz (721 kB)\n",
            "\u001b[2K     \u001b[90m━━━━━━━━━━━━━━━━━━━━━━━━━━━━━━━━━━━━━━━━\u001b[0m \u001b[32m721.7/721.7 kB\u001b[0m \u001b[31m4.2 MB/s\u001b[0m eta \u001b[36m0:00:00\u001b[0m\n",
            "\u001b[?25h  Installing build dependencies ... \u001b[?25l\u001b[?25hdone\n",
            "  Getting requirements to build wheel ... \u001b[?25l\u001b[?25hdone\n",
            "  Preparing metadata (pyproject.toml) ... \u001b[?25l\u001b[?25hdone\n",
            "Requirement already satisfied: numpy>=1.18.0 in /usr/local/lib/python3.10/dist-packages (from gym>=0.26) (1.25.2)\n",
            "Requirement already satisfied: cloudpickle>=1.2.0 in /usr/local/lib/python3.10/dist-packages (from gym>=0.26) (2.2.1)\n",
            "Requirement already satisfied: gym-notices>=0.0.4 in /usr/local/lib/python3.10/dist-packages (from gym>=0.26) (0.0.8)\n",
            "Building wheels for collected packages: gym\n",
            "  Building wheel for gym (pyproject.toml) ... \u001b[?25l\u001b[?25hdone\n",
            "  Created wheel for gym: filename=gym-0.26.2-py3-none-any.whl size=827621 sha256=b83d3f8fe36a7a1c2214ee0f6fc38e3214fe10aa272e3fb12ab65614d125180c\n",
            "  Stored in directory: /root/.cache/pip/wheels/b9/22/6d/3e7b32d98451b4cd9d12417052affbeeeea012955d437da1da\n",
            "Successfully built gym\n",
            "Installing collected packages: gym\n",
            "  Attempting uninstall: gym\n",
            "    Found existing installation: gym 0.25.2\n",
            "    Uninstalling gym-0.25.2:\n",
            "      Successfully uninstalled gym-0.25.2\n",
            "\u001b[31mERROR: pip's dependency resolver does not currently take into account all the packages that are installed. This behaviour is the source of the following dependency conflicts.\n",
            "dopamine-rl 4.0.6 requires gym<=0.25.2, but you have gym 0.26.2 which is incompatible.\u001b[0m\u001b[31m\n",
            "\u001b[0mSuccessfully installed gym-0.26.2\n"
          ]
        }
      ],
      "source": [
        "!pip install \"gym>=0.26\"\n"
      ]
    },
    {
      "cell_type": "markdown",
      "metadata": {
        "id": "Hm_e6WRm-oGY"
      },
      "source": [
        "We will be working with Open Ai's Taxi domain that looks like this\n"
      ]
    },
    {
      "cell_type": "code",
      "execution_count": 4,
      "metadata": {
        "colab": {
          "base_uri": "https://localhost:8080/"
        },
        "id": "AzvjeoJ7-sS0",
        "outputId": "aea4b05b-6f29-4323-edee-99e02058977d"
      },
      "outputs": [
        {
          "output_type": "stream",
          "name": "stdout",
          "text": [
            "+---------+\n",
            "|\u001b[35mR\u001b[0m: |\u001b[43m \u001b[0m: :G|\n",
            "| : | : : |\n",
            "| : : : : |\n",
            "| | : | : |\n",
            "|Y| : |\u001b[34;1mB\u001b[0m: |\n",
            "+---------+\n",
            "\n",
            "\n"
          ]
        }
      ],
      "source": [
        "import gym\n",
        "\n",
        "env = gym.make(\"Taxi-v3\", render_mode='ansi').env\n",
        "env.reset()\n",
        "print(env.render())"
      ]
    },
    {
      "cell_type": "markdown",
      "metadata": {
        "id": "cChPK3m3-yx5"
      },
      "source": [
        "The filled square represents the taxi, which is yellow without a passenger and green with a passenger. The pipes (\"|\") represent walls which the taxi cannot traverse. R, G, Y, B are the possible pickup and destination locations. The passenger can also be in the taxi. The blue letter represents the current passenger pick-up location, and the purple letter is the current destination.\n",
        "\n",
        "The actions space is:\n",
        "\n",
        "0 = south 1 = north 2 = east 3 = west 4 = pickup 5 = dropoff\n",
        "\n",
        "The state encoding is as follows (play around with the values)"
      ]
    },
    {
      "cell_type": "code",
      "execution_count": 5,
      "metadata": {
        "colab": {
          "base_uri": "https://localhost:8080/"
        },
        "id": "IvF8S_aLDaex",
        "outputId": "a859a1e1-7514-472f-c34f-c15c6339dda9"
      },
      "outputs": [
        {
          "output_type": "stream",
          "name": "stdout",
          "text": [
            "State: 177\n",
            "+---------+\n",
            "|\u001b[35mR\u001b[0m: |\u001b[43m \u001b[0m: :G|\n",
            "| : | : : |\n",
            "| : : : : |\n",
            "| | : | : |\n",
            "|Y| : |\u001b[34;1mB\u001b[0m: |\n",
            "+---------+\n",
            "\n",
            "\n",
            "+---------+\n",
            "|R: | : :\u001b[35mG\u001b[0m|\n",
            "| : | :\u001b[42m_\u001b[0m: |\n",
            "| : : : : |\n",
            "| | : | : |\n",
            "|Y| : |B: |\n",
            "+---------+\n",
            "\n",
            "\n"
          ]
        }
      ],
      "source": [
        "state = env.encode(1, 3, 4, 1) # (taxi row, taxi column, passenger index, destination index)\n",
        "print(\"State:\", state)\n",
        "\n",
        "print(env.render())\n",
        "env.unwrapped.s = state\n",
        "print(env.render())"
      ]
    },
    {
      "cell_type": "markdown",
      "metadata": {
        "id": "aO9OZBTz9mWK"
      },
      "source": [
        "Now let's import the GymProblem which will wrap the Taxi domain"
      ]
    },
    {
      "cell_type": "code",
      "execution_count": 7,
      "metadata": {
        "id": "lLsiu5lEfnJU"
      },
      "outputs": [],
      "source": [
        "import gym\n",
        "from aidm.environments.gym_envs.gym_problem import GymProblem"
      ]
    },
    {
      "cell_type": "markdown",
      "metadata": {
        "id": "Zr4bysiPyxL3"
      },
      "source": [
        "and now let's import the search methods we want to apply\n"
      ]
    },
    {
      "cell_type": "code",
      "execution_count": 8,
      "metadata": {
        "id": "9LwxqftZ56dt"
      },
      "outputs": [],
      "source": [
        "\n",
        "from aidm.search.best_first_search import best_first_search, breadth_first_search, depth_first_search, a_star, depth_first_search_l\n",
        "import aidm.search.utils as utils\n",
        "import aidm.search.defs as defs\n",
        "import aidm.search.heuristic as heuristic\n",
        "\n",
        "\n"
      ]
    },
    {
      "cell_type": "markdown",
      "metadata": {
        "id": "0fmQBRQQ_SoC"
      },
      "source": [
        "The following will create and recreate the taxi environment we want to explore"
      ]
    },
    {
      "cell_type": "code",
      "execution_count": 9,
      "metadata": {
        "id": "YcMY5uWD_EVq"
      },
      "outputs": [],
      "source": [
        "def create_env():\n",
        "\n",
        "    # define the environment\n",
        "    taxi_env = gym.make(\"Taxi-v3\", render_mode='ansi').env\n",
        "    taxi_env.reset()\n",
        "    init_state = taxi_env.encode(0, 3, 4, 1)  # (taxi row, taxi column, passenger index, destination index)\n",
        "    taxi_row, taxi_col, pass_idx, dest_idx = taxi_env.decode(init_state)\n",
        "    print(taxi_row)\n",
        "    taxi_env.unwrapped.s = init_state\n",
        "    print(\"State:\", init_state)\n",
        "    print(env.render())\n",
        "    return taxi_env\n"
      ]
    },
    {
      "cell_type": "markdown",
      "metadata": {
        "id": "gLwnkW4N-5fW"
      },
      "source": [
        "And now let's run Breadth First Search\n"
      ]
    },
    {
      "cell_type": "code",
      "execution_count": 10,
      "metadata": {
        "colab": {
          "base_uri": "https://localhost:8080/"
        },
        "id": "B4xAGGAuA22S",
        "outputId": "5f19de6e-bbd4-4601-be97-a8c7d3d43f86"
      },
      "outputs": [
        {
          "output_type": "stream",
          "name": "stdout",
          "text": [
            "0\n",
            "State: 77\n",
            "+---------+\n",
            "|R: | : :\u001b[35mG\u001b[0m|\n",
            "| : | :\u001b[42m_\u001b[0m: |\n",
            "| : : : : |\n",
            "| | : | : |\n",
            "|Y| : |B: |\n",
            "+---------+\n",
            "\n",
            "\n",
            "best_first_design(node) node number 1 cur_node:<Node 77>\n",
            "InMethod best_first_design(node): explored_count:1 cur_node:<Node 77>, node_eval_time:0.000\n",
            "best_first_design(node) node number 2 cur_node:<Node 177>\n",
            "InMethod best_first_design(node): explored_count:2 cur_node:<Node 177>, node_eval_time:0.000\n",
            "best_first_design(node) node number 3 cur_node:<Node 97>\n",
            "InMethod best_first_design(node): explored_count:3 cur_node:<Node 97>, node_eval_time:0.000\n",
            "best_first_design(node) node number 4 cur_node:<Node 57>\n",
            "InMethod best_first_design(node): explored_count:4 cur_node:<Node 57>, node_eval_time:0.000\n",
            "best_first_design(node) node number 5 cur_node:<Node 277>\n",
            "InMethod best_first_design(node): explored_count:5 cur_node:<Node 277>, node_eval_time:0.000\n",
            "best_first_design(node) node number 6 cur_node:<Node 197>\n",
            "InMethod best_first_design(node): explored_count:6 cur_node:<Node 197>, node_eval_time:0.000\n",
            "best_first_design(node) node number 7 cur_node:<Node 157>\n",
            "InMethod best_first_design(node): explored_count:7 cur_node:<Node 157>, node_eval_time:0.000\n",
            "best_first_design(node) node number 8 cur_node:<Node 85>\n",
            "InMethod best_first_design(node): explored_count:8 cur_node:<Node 85>, node_eval_time:0.000\n",
            "solution is: ['2', '5']\n",
            "['2', '5']\n",
            "(97, -1, False, False, {'prob': 1.0, 'action_mask': array([1, 0, 0, 1, 0, 1], dtype=int8)})\n",
            "+---------+\n",
            "|R: | : :\u001b[35m\u001b[42mG\u001b[0m\u001b[0m|\n",
            "| : | : : |\n",
            "| : : : : |\n",
            "| | : | : |\n",
            "|Y| : |B: |\n",
            "+---------+\n",
            "  (East)\n",
            "\n",
            "(85, 20, True, False, {'prob': 1.0, 'action_mask': array([1, 0, 0, 1, 1, 0], dtype=int8)})\n",
            "+---------+\n",
            "|R: | : :\u001b[35m\u001b[34;1m\u001b[43mG\u001b[0m\u001b[0m\u001b[0m|\n",
            "| : | : : |\n",
            "| : : : : |\n",
            "| | : | : |\n",
            "|Y| : |B: |\n",
            "+---------+\n",
            "  (Dropoff)\n",
            "\n"
          ]
        },
        {
          "output_type": "stream",
          "name": "stderr",
          "text": [
            "/usr/local/lib/python3.10/dist-packages/gym/utils/passive_env_checker.py:233: DeprecationWarning: `np.bool8` is a deprecated alias for `np.bool_`.  (Deprecated NumPy 1.24)\n",
            "  if not isinstance(terminated, (bool, np.bool8)):\n"
          ]
        }
      ],
      "source": [
        "taxi_env = create_env()\n",
        "\n",
        "# create a wrapper of the environment to the search\n",
        "taxi_p = GymProblem(taxi_env, taxi_env.unwrapped.s)\n",
        "\n",
        "\n",
        "# perform BFS\n",
        "[best_value, best_node, best_plan, explored_count, ex_terminated] = breadth_first_search(problem=taxi_p,\n",
        "                                                                                         log=True,\n",
        "                                                                                         log_file=None,\n",
        "                                                                                         iter_limit=defs.NA,\n",
        "                                                                                         time_limit=defs.NA,\n",
        "                                                                                        )\n",
        "\n",
        "\n",
        "print(best_plan)\n",
        "for action_id in best_plan:\n",
        "    print(taxi_env.step(int(action_id)))\n",
        "    taxi_p.apply_action(action_id)\n",
        "    print(taxi_p.env.render())\n"
      ]
    },
    {
      "cell_type": "markdown",
      "metadata": {
        "id": "j-OTJpcX9-BH"
      },
      "source": [
        "Let's see the same methods, but now with the explicit call to BestFirstSearch (which shows us how Breadth First Search is a special case of BestFirstSearch)"
      ]
    },
    {
      "cell_type": "code",
      "execution_count": 11,
      "metadata": {
        "colab": {
          "base_uri": "https://localhost:8080/"
        },
        "id": "JlLW6PfA_ciO",
        "outputId": "10d673e9-021e-4b22-e2a9-7c1f898b7229"
      },
      "outputs": [
        {
          "output_type": "stream",
          "name": "stdout",
          "text": [
            "0\n",
            "State: 77\n",
            "+---------+\n",
            "|R: | : :\u001b[35mG\u001b[0m|\n",
            "| : | :\u001b[42m_\u001b[0m: |\n",
            "| : : : : |\n",
            "| | : | : |\n",
            "|Y| : |B: |\n",
            "+---------+\n",
            "\n",
            "\n",
            "best_first_design(node) node number 1 cur_node:<Node 77>\n",
            "InMethod best_first_design(node): explored_count:1 cur_node:<Node 77>, node_eval_time:0.000\n",
            "best_first_design(node) node number 2 cur_node:<Node 177>\n",
            "InMethod best_first_design(node): explored_count:2 cur_node:<Node 177>, node_eval_time:0.000\n",
            "best_first_design(node) node number 3 cur_node:<Node 97>\n",
            "InMethod best_first_design(node): explored_count:3 cur_node:<Node 97>, node_eval_time:0.000\n",
            "best_first_design(node) node number 4 cur_node:<Node 57>\n",
            "InMethod best_first_design(node): explored_count:4 cur_node:<Node 57>, node_eval_time:0.000\n",
            "best_first_design(node) node number 5 cur_node:<Node 277>\n",
            "InMethod best_first_design(node): explored_count:5 cur_node:<Node 277>, node_eval_time:0.000\n",
            "best_first_design(node) node number 6 cur_node:<Node 197>\n",
            "InMethod best_first_design(node): explored_count:6 cur_node:<Node 197>, node_eval_time:0.000\n",
            "best_first_design(node) node number 7 cur_node:<Node 157>\n",
            "InMethod best_first_design(node): explored_count:7 cur_node:<Node 157>, node_eval_time:0.000\n",
            "best_first_design(node) node number 8 cur_node:<Node 85>\n",
            "InMethod best_first_design(node): explored_count:8 cur_node:<Node 85>, node_eval_time:0.000\n",
            "solution is: ['2', '5']\n",
            "['2', '5']\n",
            "+---------+\n",
            "|R: | : :\u001b[35mG\u001b[0m|\n",
            "| : | :\u001b[42m_\u001b[0m: |\n",
            "| : : : : |\n",
            "| | : | : |\n",
            "|Y| : |B: |\n",
            "+---------+\n",
            "\n",
            "\n",
            "+---------+\n",
            "|R: | : :\u001b[35mG\u001b[0m|\n",
            "| : | :\u001b[42m_\u001b[0m: |\n",
            "| : : : : |\n",
            "| | : | : |\n",
            "|Y| : |B: |\n",
            "+---------+\n",
            "\n",
            "\n"
          ]
        }
      ],
      "source": [
        "taxi_env = create_env()\n",
        "\n",
        "# create a wrapper of the environment to the search\n",
        "taxi_p = GymProblem(taxi_env, taxi_env.unwrapped.s)\n",
        "\n",
        "# perform BFS\n",
        "[best_value, best_node, best_plan, explored_count, ex_terminated] = best_first_search(problem=taxi_p,\n",
        "                                                                                      frontier=utils.FIFOQueue(),\n",
        "                                                                                      closed_list=utils.ClosedListOfKeys(),\n",
        "                                                                                      termination_criteria=utils.TerminationCriteriaGoalStateReached(),\n",
        "                                                                                      evaluation_criteria=utils.EvaluationCriteriaGoalCondition(),\n",
        "                                                                                      prune_func=None,\n",
        "                                                                                      log=True, log_file=None,\n",
        "                                                                                      iter_limit=defs.NA,\n",
        "                                                                                      time_limit=defs.NA,\n",
        "                                                                                      )\n",
        "print(best_plan)\n",
        "for action_id in best_plan:\n",
        "    taxi_p.apply_action(action_id)\n",
        "    print(env.render())"
      ]
    },
    {
      "cell_type": "markdown",
      "metadata": {
        "id": "1d0Sr45BBKeo"
      },
      "source": [
        "**And** now, let's run DFS"
      ]
    },
    {
      "cell_type": "code",
      "execution_count": 12,
      "metadata": {
        "colab": {
          "base_uri": "https://localhost:8080/"
        },
        "id": "FckxgAXG92ru",
        "outputId": "c1a71a04-1089-43bf-f068-5400b623006b"
      },
      "outputs": [
        {
          "output_type": "stream",
          "name": "stdout",
          "text": [
            "0\n",
            "State: 77\n",
            "+---------+\n",
            "|R: | : :\u001b[35mG\u001b[0m|\n",
            "| : | :\u001b[42m_\u001b[0m: |\n",
            "| : : : : |\n",
            "| | : | : |\n",
            "|Y| : |B: |\n",
            "+---------+\n",
            "\n",
            "\n",
            "best_first_design(node) node number 1 cur_node:<Node 77>\n",
            "InMethod best_first_design(node): explored_count:1 cur_node:<Node 77>, node_eval_time:0.000\n",
            "best_first_design(node) node number 2 cur_node:<Node 57>\n",
            "InMethod best_first_design(node): explored_count:2 cur_node:<Node 57>, node_eval_time:0.000\n",
            "best_first_design(node) node number 3 cur_node:<Node 157>\n",
            "InMethod best_first_design(node): explored_count:3 cur_node:<Node 157>, node_eval_time:0.000\n",
            "best_first_design(node) node number 4 cur_node:<Node 257>\n",
            "InMethod best_first_design(node): explored_count:4 cur_node:<Node 257>, node_eval_time:0.000\n",
            "best_first_design(node) node number 5 cur_node:<Node 237>\n",
            "InMethod best_first_design(node): explored_count:5 cur_node:<Node 237>, node_eval_time:0.000\n",
            "best_first_design(node) node number 6 cur_node:<Node 217>\n",
            "InMethod best_first_design(node): explored_count:6 cur_node:<Node 217>, node_eval_time:0.000\n",
            "best_first_design(node) node number 7 cur_node:<Node 117>\n",
            "InMethod best_first_design(node): explored_count:7 cur_node:<Node 117>, node_eval_time:0.000\n",
            "best_first_design(node) node number 8 cur_node:<Node 17>\n",
            "InMethod best_first_design(node): explored_count:8 cur_node:<Node 17>, node_eval_time:0.000\n",
            "best_first_design(node) node number 9 cur_node:<Node 1>\n",
            "InMethod best_first_design(node): explored_count:9 cur_node:<Node 1>, node_eval_time:0.000\n",
            "best_first_design(node) node number 10 cur_node:<Node 21>\n",
            "InMethod best_first_design(node): explored_count:10 cur_node:<Node 21>, node_eval_time:0.000\n",
            "best_first_design(node) node number 11 cur_node:<Node 121>\n",
            "InMethod best_first_design(node): explored_count:11 cur_node:<Node 121>, node_eval_time:0.000\n",
            "best_first_design(node) node number 12 cur_node:<Node 221>\n",
            "InMethod best_first_design(node): explored_count:12 cur_node:<Node 221>, node_eval_time:0.000\n",
            "best_first_design(node) node number 13 cur_node:<Node 201>\n",
            "InMethod best_first_design(node): explored_count:13 cur_node:<Node 201>, node_eval_time:0.000\n",
            "best_first_design(node) node number 14 cur_node:<Node 301>\n",
            "InMethod best_first_design(node): explored_count:14 cur_node:<Node 301>, node_eval_time:0.000\n",
            "best_first_design(node) node number 15 cur_node:<Node 401>\n",
            "InMethod best_first_design(node): explored_count:15 cur_node:<Node 401>, node_eval_time:0.000\n",
            "best_first_design(node) node number 16 cur_node:<Node 241>\n",
            "InMethod best_first_design(node): explored_count:16 cur_node:<Node 241>, node_eval_time:0.000\n",
            "best_first_design(node) node number 17 cur_node:<Node 261>\n",
            "InMethod best_first_design(node): explored_count:17 cur_node:<Node 261>, node_eval_time:0.000\n",
            "best_first_design(node) node number 18 cur_node:<Node 281>\n",
            "InMethod best_first_design(node): explored_count:18 cur_node:<Node 281>, node_eval_time:0.000\n",
            "best_first_design(node) node number 19 cur_node:<Node 181>\n",
            "InMethod best_first_design(node): explored_count:19 cur_node:<Node 181>, node_eval_time:0.000\n",
            "best_first_design(node) node number 20 cur_node:<Node 81>\n",
            "InMethod best_first_design(node): explored_count:20 cur_node:<Node 81>, node_eval_time:0.000\n",
            "best_first_design(node) node number 21 cur_node:<Node 61>\n",
            "InMethod best_first_design(node): explored_count:21 cur_node:<Node 61>, node_eval_time:0.000\n",
            "best_first_design(node) node number 22 cur_node:<Node 41>\n",
            "InMethod best_first_design(node): explored_count:22 cur_node:<Node 41>, node_eval_time:0.000\n",
            "best_first_design(node) node number 23 cur_node:<Node 381>\n",
            "InMethod best_first_design(node): explored_count:23 cur_node:<Node 381>, node_eval_time:0.000\n",
            "best_first_design(node) node number 24 cur_node:<Node 481>\n",
            "InMethod best_first_design(node): explored_count:24 cur_node:<Node 481>, node_eval_time:0.000\n",
            "best_first_design(node) node number 25 cur_node:<Node 461>\n",
            "InMethod best_first_design(node): explored_count:25 cur_node:<Node 461>, node_eval_time:0.000\n",
            "best_first_design(node) node number 26 cur_node:<Node 161>\n",
            "InMethod best_first_design(node): explored_count:26 cur_node:<Node 161>, node_eval_time:0.000\n",
            "best_first_design(node) node number 27 cur_node:<Node 361>\n",
            "InMethod best_first_design(node): explored_count:27 cur_node:<Node 361>, node_eval_time:0.000\n",
            "best_first_design(node) node number 28 cur_node:<Node 141>\n",
            "InMethod best_first_design(node): explored_count:28 cur_node:<Node 141>, node_eval_time:0.000\n",
            "best_first_design(node) node number 29 cur_node:<Node 341>\n",
            "InMethod best_first_design(node): explored_count:29 cur_node:<Node 341>, node_eval_time:0.000\n",
            "best_first_design(node) node number 30 cur_node:<Node 441>\n",
            "InMethod best_first_design(node): explored_count:30 cur_node:<Node 441>, node_eval_time:0.000\n",
            "best_first_design(node) node number 31 cur_node:<Node 421>\n",
            "InMethod best_first_design(node): explored_count:31 cur_node:<Node 421>, node_eval_time:0.000\n",
            "best_first_design(node) node number 32 cur_node:<Node 321>\n",
            "InMethod best_first_design(node): explored_count:32 cur_node:<Node 321>, node_eval_time:0.000\n",
            "best_first_design(node) node number 33 cur_node:<Node 101>\n",
            "InMethod best_first_design(node): explored_count:33 cur_node:<Node 101>, node_eval_time:0.000\n",
            "best_first_design(node) node number 34 cur_node:<Node 37>\n",
            "InMethod best_first_design(node): explored_count:34 cur_node:<Node 37>, node_eval_time:0.000\n",
            "best_first_design(node) node number 35 cur_node:<Node 317>\n",
            "InMethod best_first_design(node): explored_count:35 cur_node:<Node 317>, node_eval_time:0.000\n",
            "best_first_design(node) node number 36 cur_node:<Node 417>\n",
            "InMethod best_first_design(node): explored_count:36 cur_node:<Node 417>, node_eval_time:0.000\n",
            "best_first_design(node) node number 37 cur_node:<Node 409>\n",
            "InMethod best_first_design(node): explored_count:37 cur_node:<Node 409>, node_eval_time:0.000\n",
            "best_first_design(node) node number 38 cur_node:<Node 309>\n",
            "InMethod best_first_design(node): explored_count:38 cur_node:<Node 309>, node_eval_time:0.000\n",
            "best_first_design(node) node number 39 cur_node:<Node 209>\n",
            "InMethod best_first_design(node): explored_count:39 cur_node:<Node 209>, node_eval_time:0.000\n",
            "best_first_design(node) node number 40 cur_node:<Node 229>\n",
            "InMethod best_first_design(node): explored_count:40 cur_node:<Node 229>, node_eval_time:0.000\n",
            "best_first_design(node) node number 41 cur_node:<Node 249>\n",
            "InMethod best_first_design(node): explored_count:41 cur_node:<Node 249>, node_eval_time:0.000\n",
            "best_first_design(node) node number 42 cur_node:<Node 269>\n",
            "InMethod best_first_design(node): explored_count:42 cur_node:<Node 269>, node_eval_time:0.000\n",
            "best_first_design(node) node number 43 cur_node:<Node 289>\n",
            "InMethod best_first_design(node): explored_count:43 cur_node:<Node 289>, node_eval_time:0.000\n",
            "best_first_design(node) node number 44 cur_node:<Node 189>\n",
            "InMethod best_first_design(node): explored_count:44 cur_node:<Node 189>, node_eval_time:0.000\n",
            "best_first_design(node) node number 45 cur_node:<Node 89>\n",
            "InMethod best_first_design(node): explored_count:45 cur_node:<Node 89>, node_eval_time:0.000\n",
            "best_first_design(node) node number 46 cur_node:<Node 69>\n",
            "InMethod best_first_design(node): explored_count:46 cur_node:<Node 69>, node_eval_time:0.000\n",
            "best_first_design(node) node number 47 cur_node:<Node 49>\n",
            "InMethod best_first_design(node): explored_count:47 cur_node:<Node 49>, node_eval_time:0.000\n",
            "best_first_design(node) node number 48 cur_node:<Node 389>\n",
            "InMethod best_first_design(node): explored_count:48 cur_node:<Node 389>, node_eval_time:0.000\n",
            "best_first_design(node) node number 49 cur_node:<Node 489>\n",
            "InMethod best_first_design(node): explored_count:49 cur_node:<Node 489>, node_eval_time:0.000\n",
            "best_first_design(node) node number 50 cur_node:<Node 469>\n",
            "InMethod best_first_design(node): explored_count:50 cur_node:<Node 469>, node_eval_time:0.000\n",
            "best_first_design(node) node number 51 cur_node:<Node 169>\n",
            "InMethod best_first_design(node): explored_count:51 cur_node:<Node 169>, node_eval_time:0.000\n",
            "best_first_design(node) node number 52 cur_node:<Node 369>\n",
            "InMethod best_first_design(node): explored_count:52 cur_node:<Node 369>, node_eval_time:0.000\n",
            "best_first_design(node) node number 53 cur_node:<Node 149>\n",
            "InMethod best_first_design(node): explored_count:53 cur_node:<Node 149>, node_eval_time:0.000\n",
            "best_first_design(node) node number 54 cur_node:<Node 349>\n",
            "InMethod best_first_design(node): explored_count:54 cur_node:<Node 349>, node_eval_time:0.000\n",
            "best_first_design(node) node number 55 cur_node:<Node 449>\n",
            "InMethod best_first_design(node): explored_count:55 cur_node:<Node 449>, node_eval_time:0.000\n",
            "best_first_design(node) node number 56 cur_node:<Node 429>\n",
            "InMethod best_first_design(node): explored_count:56 cur_node:<Node 429>, node_eval_time:0.000\n",
            "best_first_design(node) node number 57 cur_node:<Node 129>\n",
            "InMethod best_first_design(node): explored_count:57 cur_node:<Node 129>, node_eval_time:0.000\n",
            "best_first_design(node) node number 58 cur_node:<Node 29>\n",
            "InMethod best_first_design(node): explored_count:58 cur_node:<Node 29>, node_eval_time:0.000\n",
            "best_first_design(node) node number 59 cur_node:<Node 9>\n",
            "InMethod best_first_design(node): explored_count:59 cur_node:<Node 9>, node_eval_time:0.000\n",
            "best_first_design(node) node number 60 cur_node:<Node 329>\n",
            "InMethod best_first_design(node): explored_count:60 cur_node:<Node 329>, node_eval_time:0.000\n",
            "best_first_design(node) node number 61 cur_node:<Node 109>\n",
            "InMethod best_first_design(node): explored_count:61 cur_node:<Node 109>, node_eval_time:0.000\n",
            "best_first_design(node) node number 62 cur_node:<Node 137>\n",
            "InMethod best_first_design(node): explored_count:62 cur_node:<Node 137>, node_eval_time:0.000\n",
            "best_first_design(node) node number 63 cur_node:<Node 337>\n",
            "InMethod best_first_design(node): explored_count:63 cur_node:<Node 337>, node_eval_time:0.000\n",
            "best_first_design(node) node number 64 cur_node:<Node 437>\n",
            "InMethod best_first_design(node): explored_count:64 cur_node:<Node 437>, node_eval_time:0.000\n",
            "best_first_design(node) node number 65 cur_node:<Node 457>\n",
            "InMethod best_first_design(node): explored_count:65 cur_node:<Node 457>, node_eval_time:0.000\n",
            "best_first_design(node) node number 66 cur_node:<Node 277>\n",
            "InMethod best_first_design(node): explored_count:66 cur_node:<Node 277>, node_eval_time:0.000\n",
            "best_first_design(node) node number 67 cur_node:<Node 297>\n",
            "InMethod best_first_design(node): explored_count:67 cur_node:<Node 297>, node_eval_time:0.000\n",
            "best_first_design(node) node number 68 cur_node:<Node 197>\n",
            "InMethod best_first_design(node): explored_count:68 cur_node:<Node 197>, node_eval_time:0.000\n",
            "best_first_design(node) node number 69 cur_node:<Node 397>\n",
            "InMethod best_first_design(node): explored_count:69 cur_node:<Node 397>, node_eval_time:0.000\n",
            "best_first_design(node) node number 70 cur_node:<Node 497>\n",
            "InMethod best_first_design(node): explored_count:70 cur_node:<Node 497>, node_eval_time:0.000\n",
            "best_first_design(node) node number 71 cur_node:<Node 477>\n",
            "InMethod best_first_design(node): explored_count:71 cur_node:<Node 477>, node_eval_time:0.000\n",
            "best_first_design(node) node number 72 cur_node:<Node 473>\n",
            "InMethod best_first_design(node): explored_count:72 cur_node:<Node 473>, node_eval_time:0.000\n",
            "best_first_design(node) node number 73 cur_node:<Node 493>\n",
            "InMethod best_first_design(node): explored_count:73 cur_node:<Node 493>, node_eval_time:0.000\n",
            "best_first_design(node) node number 74 cur_node:<Node 393>\n",
            "InMethod best_first_design(node): explored_count:74 cur_node:<Node 393>, node_eval_time:0.000\n",
            "best_first_design(node) node number 75 cur_node:<Node 293>\n",
            "InMethod best_first_design(node): explored_count:75 cur_node:<Node 293>, node_eval_time:0.000\n",
            "best_first_design(node) node number 76 cur_node:<Node 273>\n",
            "InMethod best_first_design(node): explored_count:76 cur_node:<Node 273>, node_eval_time:0.000\n",
            "best_first_design(node) node number 77 cur_node:<Node 253>\n",
            "InMethod best_first_design(node): explored_count:77 cur_node:<Node 253>, node_eval_time:0.000\n",
            "best_first_design(node) node number 78 cur_node:<Node 233>\n",
            "InMethod best_first_design(node): explored_count:78 cur_node:<Node 233>, node_eval_time:0.000\n",
            "best_first_design(node) node number 79 cur_node:<Node 213>\n",
            "InMethod best_first_design(node): explored_count:79 cur_node:<Node 213>, node_eval_time:0.000\n",
            "best_first_design(node) node number 80 cur_node:<Node 113>\n",
            "InMethod best_first_design(node): explored_count:80 cur_node:<Node 113>, node_eval_time:0.000\n",
            "best_first_design(node) node number 81 cur_node:<Node 13>\n",
            "InMethod best_first_design(node): explored_count:81 cur_node:<Node 13>, node_eval_time:0.000\n",
            "best_first_design(node) node number 82 cur_node:<Node 33>\n",
            "InMethod best_first_design(node): explored_count:82 cur_node:<Node 33>, node_eval_time:0.000\n",
            "best_first_design(node) node number 83 cur_node:<Node 313>\n",
            "InMethod best_first_design(node): explored_count:83 cur_node:<Node 313>, node_eval_time:0.000\n",
            "best_first_design(node) node number 84 cur_node:<Node 413>\n",
            "InMethod best_first_design(node): explored_count:84 cur_node:<Node 413>, node_eval_time:0.000\n",
            "best_first_design(node) node number 85 cur_node:<Node 133>\n",
            "InMethod best_first_design(node): explored_count:85 cur_node:<Node 133>, node_eval_time:0.000\n",
            "best_first_design(node) node number 86 cur_node:<Node 333>\n",
            "InMethod best_first_design(node): explored_count:86 cur_node:<Node 333>, node_eval_time:0.000\n",
            "best_first_design(node) node number 87 cur_node:<Node 433>\n",
            "InMethod best_first_design(node): explored_count:87 cur_node:<Node 433>, node_eval_time:0.000\n",
            "best_first_design(node) node number 88 cur_node:<Node 453>\n",
            "InMethod best_first_design(node): explored_count:88 cur_node:<Node 453>, node_eval_time:0.000\n",
            "best_first_design(node) node number 89 cur_node:<Node 153>\n",
            "InMethod best_first_design(node): explored_count:89 cur_node:<Node 153>, node_eval_time:0.000\n",
            "best_first_design(node) node number 90 cur_node:<Node 53>\n",
            "InMethod best_first_design(node): explored_count:90 cur_node:<Node 53>, node_eval_time:0.000\n",
            "best_first_design(node) node number 91 cur_node:<Node 73>\n",
            "InMethod best_first_design(node): explored_count:91 cur_node:<Node 73>, node_eval_time:0.000\n",
            "best_first_design(node) node number 92 cur_node:<Node 93>\n",
            "InMethod best_first_design(node): explored_count:92 cur_node:<Node 93>, node_eval_time:0.000\n",
            "best_first_design(node) node number 93 cur_node:<Node 353>\n",
            "InMethod best_first_design(node): explored_count:93 cur_node:<Node 353>, node_eval_time:0.000\n",
            "best_first_design(node) node number 94 cur_node:<Node 173>\n",
            "InMethod best_first_design(node): explored_count:94 cur_node:<Node 173>, node_eval_time:0.000\n",
            "best_first_design(node) node number 95 cur_node:<Node 193>\n",
            "InMethod best_first_design(node): explored_count:95 cur_node:<Node 193>, node_eval_time:0.000\n",
            "best_first_design(node) node number 96 cur_node:<Node 373>\n",
            "InMethod best_first_design(node): explored_count:96 cur_node:<Node 373>, node_eval_time:0.000\n",
            "best_first_design(node) node number 97 cur_node:<Node 377>\n",
            "InMethod best_first_design(node): explored_count:97 cur_node:<Node 377>, node_eval_time:0.000\n",
            "best_first_design(node) node number 98 cur_node:<Node 357>\n",
            "InMethod best_first_design(node): explored_count:98 cur_node:<Node 357>, node_eval_time:0.000\n",
            "best_first_design(node) node number 99 cur_node:<Node 97>\n",
            "InMethod best_first_design(node): explored_count:99 cur_node:<Node 97>, node_eval_time:0.000\n",
            "best_first_design(node) node number 100 cur_node:<Node 85>\n",
            "InMethod best_first_design(node): explored_count:100 cur_node:<Node 85>, node_eval_time:0.000\n",
            "solution is: ['2', '5']\n",
            "['2', '5']\n",
            "+---------+\n",
            "|R: | : :\u001b[35mG\u001b[0m|\n",
            "| : | :\u001b[42m_\u001b[0m: |\n",
            "| : : : : |\n",
            "| | : | : |\n",
            "|Y| : |B: |\n",
            "+---------+\n",
            "\n",
            "\n",
            "+---------+\n",
            "|R: | : :\u001b[35mG\u001b[0m|\n",
            "| : | :\u001b[42m_\u001b[0m: |\n",
            "| : : : : |\n",
            "| | : | : |\n",
            "|Y| : |B: |\n",
            "+---------+\n",
            "\n",
            "\n"
          ]
        }
      ],
      "source": [
        "taxi_env = create_env()\n",
        "# create a wrapper of the environment to the search\n",
        "taxi_p = GymProblem(taxi_env, taxi_env.unwrapped.s)\n",
        "\n",
        "# perform DFS\n",
        "[best_value, best_node, best_plan, explored_count, ex_terminated] = depth_first_search(problem=taxi_p,\n",
        "                                                                                       log=True,\n",
        "                                                                                       log_file=None,\n",
        "                                                                                       iter_limit=defs.NA,\n",
        "                                                                                       time_limit=defs.NA,\n",
        "                                                                                       )\n",
        "\n",
        "print(best_plan)\n",
        "for action_id in best_plan:\n",
        "    taxi_p.apply_action(action_id)\n",
        "    print(env.render())"
      ]
    },
    {
      "cell_type": "markdown",
      "metadata": {
        "id": "sATJE1x_7fO6"
      },
      "source": [
        "and now let's run DFS-L"
      ]
    },
    {
      "cell_type": "code",
      "execution_count": 13,
      "metadata": {
        "colab": {
          "base_uri": "https://localhost:8080/"
        },
        "id": "MpXQvI5J7bfR",
        "outputId": "fce7c672-723d-4b03-f2f1-c368ab0d0a9c"
      },
      "outputs": [
        {
          "output_type": "stream",
          "name": "stdout",
          "text": [
            "0\n",
            "State: 77\n",
            "+---------+\n",
            "|R: | : :\u001b[35mG\u001b[0m|\n",
            "| : | :\u001b[42m_\u001b[0m: |\n",
            "| : : : : |\n",
            "| | : | : |\n",
            "|Y| : |B: |\n",
            "+---------+\n",
            "\n",
            "\n",
            "best_first_design(node) node number 1 cur_node:<Node 77>\n",
            "InMethod best_first_design(node): explored_count:1 cur_node:<Node 77>, node_eval_time:0.000\n",
            "best_first_design(node) node number 2 cur_node:<Node 57>\n",
            "InMethod best_first_design(node): explored_count:2 cur_node:<Node 57>, node_eval_time:0.000\n",
            "best_first_design(node) node number 3 cur_node:<Node 97>\n",
            "InMethod best_first_design(node): explored_count:3 cur_node:<Node 97>, node_eval_time:0.000\n",
            "best_first_design(node) node number 4 cur_node:<Node 177>\n",
            "InMethod best_first_design(node): explored_count:4 cur_node:<Node 177>, node_eval_time:0.000\n",
            "solution is: []\n",
            "[]\n"
          ]
        }
      ],
      "source": [
        "taxi_env = create_env()\n",
        "# create a wrapper of the environment to the search\n",
        "taxi_p = GymProblem(taxi_env, taxi_env.unwrapped.s)\n",
        "\n",
        "# perform DFS\n",
        "[best_value, best_node, best_plan, explored_count, ex_terminated] = depth_first_search_l(problem=taxi_p,\n",
        "                                                                                       max_depth=2,\n",
        "                                                                                       log=True,\n",
        "                                                                                       log_file=None,\n",
        "                                                                                       iter_limit=defs.NA,\n",
        "                                                                                       time_limit=defs.NA,\n",
        "                                                                                       )\n",
        "\n",
        "print(best_plan)\n",
        "for action_id in best_plan:\n",
        "    taxi_p.apply_action(action_id)\n",
        "    print(env.render())"
      ]
    },
    {
      "cell_type": "markdown",
      "metadata": {
        "id": "qkX5s0O2Brzc"
      },
      "source": [
        "Finally, let's see how A-Star works on the same problem (with a ridiculously simple heuristic that gives 0 to terminal nodes and 1 to all other nodes):"
      ]
    },
    {
      "cell_type": "code",
      "execution_count": 14,
      "metadata": {
        "colab": {
          "base_uri": "https://localhost:8080/"
        },
        "id": "7Pk-Gvov6hue",
        "outputId": "0f9f172c-b083-4eca-c7cd-26cefedb68f8"
      },
      "outputs": [
        {
          "output_type": "stream",
          "name": "stdout",
          "text": [
            "0\n",
            "State: 77\n",
            "+---------+\n",
            "|R: | : :\u001b[35mG\u001b[0m|\n",
            "| : | :\u001b[42m_\u001b[0m: |\n",
            "| : : : : |\n",
            "| | : | : |\n",
            "|Y| : |B: |\n",
            "+---------+\n",
            "\n",
            "\n",
            "best_first_design(node) node number 1 cur_node:<Node 77>\n",
            "InMethod best_first_design(node): explored_count:1 cur_node:<Node 77>, node_eval_time:0.000\n",
            "best_first_design(node) node number 2 cur_node:<Node 57>\n",
            "InMethod best_first_design(node): explored_count:2 cur_node:<Node 57>, node_eval_time:0.000\n",
            "best_first_design(node) node number 3 cur_node:<Node 97>\n",
            "InMethod best_first_design(node): explored_count:3 cur_node:<Node 97>, node_eval_time:0.000\n",
            "best_first_design(node) node number 4 cur_node:<Node 85>\n",
            "InMethod best_first_design(node): explored_count:4 cur_node:<Node 85>, node_eval_time:0.000\n",
            "solution is: ['2', '5']\n",
            "['2', '5']\n",
            "+---------+\n",
            "|R: | : :\u001b[35mG\u001b[0m|\n",
            "| : | :\u001b[42m_\u001b[0m: |\n",
            "| : : : : |\n",
            "| | : | : |\n",
            "|Y| : |B: |\n",
            "+---------+\n",
            "\n",
            "\n",
            "+---------+\n",
            "|R: | : :\u001b[35mG\u001b[0m|\n",
            "| : | :\u001b[42m_\u001b[0m: |\n",
            "| : : : : |\n",
            "| | : | : |\n",
            "|Y| : |B: |\n",
            "+---------+\n",
            "\n",
            "\n"
          ]
        }
      ],
      "source": [
        "taxi_env = create_env()\n",
        "\n",
        "# create a wrapper of the environment to the search\n",
        "taxi_p = GymProblem(taxi_env, taxi_env.unwrapped.s)\n",
        "\n",
        "# perform A*\n",
        "[best_value, best_node, best_plan, explored_count, ex_terminated] = best_first_search(problem=taxi_p,\n",
        "                                                                                      frontier=utils.PriorityQueue(heuristic.goal_heuristic),\n",
        "                                                                                      closed_list=utils.ClosedListOfKeys(),\n",
        "                                                                                      termination_criteria=utils.TerminationCriteriaGoalStateReached(),\n",
        "                                                                                      evaluation_criteria=utils.EvaluationCriteriaGoalCondition(),\n",
        "                                                                                      prune_func=None,\n",
        "                                                                                      log=True,\n",
        "                                                                                      log_file=None,\n",
        "                                                                                      iter_limit=defs.NA,\n",
        "                                                                                      time_limit=defs.NA,\n",
        "                                                                                      )\n",
        "\n",
        "print(best_plan)\n",
        "for action_id in best_plan:\n",
        "    taxi_p.apply_action(action_id)\n",
        "    print(env.render())"
      ]
    },
    {
      "cell_type": "markdown",
      "metadata": {
        "id": "tauuB-SKD2Eq"
      },
      "source": [
        "**RL**\n",
        "\n",
        "Another approach to solve the taxi domain is to apply a reinforcement learning (RL) approach by which agents learn by interacting with the environment.  "
      ]
    },
    {
      "cell_type": "markdown",
      "metadata": {
        "id": "6TqyLwiZhEGW"
      },
      "source": [
        "First, let's see what would happen if we try to brute-force our way to solving the problem.\n",
        "\n",
        "Since we have our P table for default rewards in each state, we can try to have our taxi navigate just using that.\n",
        "\n",
        "We'll create an infinite loop which runs until one passenger reaches one destination (one episode), or in other words, when the received reward is 20. The env.action_space.sample() method automatically selects one random action from set of all possible actions."
      ]
    },
    {
      "cell_type": "code",
      "execution_count": 15,
      "metadata": {
        "colab": {
          "base_uri": "https://localhost:8080/"
        },
        "id": "iurEzoTxD8aW",
        "outputId": "321a7133-7db4-4635-9e41-29db614743df"
      },
      "outputs": [
        {
          "output_type": "stream",
          "name": "stdout",
          "text": [
            "Timesteps taken: 108\n",
            "Penalties incurred: 40\n"
          ]
        }
      ],
      "source": [
        "env.s = 328  # set environment to illustration's state\n",
        "\n",
        "epochs = 0\n",
        "penalties, reward = 0, 0\n",
        "\n",
        "frames = [] # for animation\n",
        "\n",
        "done = False\n",
        "\n",
        "while not done:\n",
        "    action = env.action_space.sample()\n",
        "    out = env.step(action)\n",
        "    # print(out)\n",
        "\n",
        "    state, reward, done, trunc, info = out\n",
        "\n",
        "    if reward == -10:\n",
        "        penalties += 1\n",
        "\n",
        "    # Put each rendered frame into dict for animation\n",
        "    frames.append({\n",
        "        'frame': env.render(),\n",
        "        'state': state,\n",
        "        'action': action,\n",
        "        'reward': reward\n",
        "        }\n",
        "    )\n",
        "\n",
        "    epochs += 1\n",
        "\n",
        "\n",
        "print(\"Timesteps taken: {}\".format(epochs))\n",
        "print(\"Penalties incurred: {}\".format(penalties))"
      ]
    },
    {
      "cell_type": "markdown",
      "metadata": {
        "id": "UmsT0mdPhaYP"
      },
      "source": [
        "We can now play the animation of the behaviors (and stop it when we want to by pressing the stop button)\n",
        "\n"
      ]
    },
    {
      "cell_type": "code",
      "execution_count": 16,
      "metadata": {
        "colab": {
          "base_uri": "https://localhost:8080/"
        },
        "id": "dDByZohLhXSO",
        "outputId": "162975df-9a23-4321-c4f1-d7ba27f701cf"
      },
      "outputs": [
        {
          "output_type": "stream",
          "name": "stdout",
          "text": [
            "+---------+\n",
            "|R: | : :\u001b[35m\u001b[34;1m\u001b[43mG\u001b[0m\u001b[0m\u001b[0m|\n",
            "| : | : : |\n",
            "| : : : : |\n",
            "| | : | : |\n",
            "|Y| : |B: |\n",
            "+---------+\n",
            "  (Dropoff)\n",
            "\n",
            "Timestep: 108\n",
            "State: 85\n",
            "Action: 5\n",
            "Reward: 20\n"
          ]
        }
      ],
      "source": [
        "from IPython.display import clear_output\n",
        "from time import sleep\n",
        "\n",
        "def print_frames(frames):\n",
        "    for i, frame in enumerate(frames):\n",
        "        clear_output(wait=True)\n",
        "        print(frame['frame'])\n",
        "        print(f\"Timestep: {i + 1}\")\n",
        "        print(f\"State: {frame['state']}\")\n",
        "        print(f\"Action: {frame['action']}\")\n",
        "        print(f\"Reward: {frame['reward']}\")\n",
        "        sleep(.1)\n",
        "\n",
        "print_frames(frames)"
      ]
    },
    {
      "cell_type": "markdown",
      "metadata": {
        "id": "VTYpGzkNgSja"
      },
      "source": [
        "**Q Learning**\n"
      ]
    },
    {
      "cell_type": "markdown",
      "metadata": {
        "id": "YNpV0CMwhsbN"
      },
      "source": [
        "Essentially, Q-learning lets the agent use the environment's rewards to learn over time the best action to take in a given state.\n",
        "\n",
        "In our Taxi environment, we have the reward table, P, that the agent will learn from. It does this by receiving a reward for taking an action in the current state, then updating a Q-value to remember if that action was beneficial.\n",
        "\n",
        "The values store in the Q-table are called a Q-values, and they map to a (state, action) combination.\n",
        "\n",
        "A Q-value for a particular state-action combination is representative of the \"quality\" of an action taken from that state. Better Q-values imply better chances of getting greater rewards.\n",
        "\n",
        "For example, if the taxi is faced with a state that includes a passenger at its current location, it is highly likely that the Q-value for pickup is higher when compared to other actions, like dropoff or north.\n",
        "\n",
        "Q-values are initialized to an arbitrary value, and as the agent exposes itself to the environment and receives different rewards by executing different actions, the Q-values are updated using the equation:\n",
        "\n",
        "Q(state,action)←(1−α)Q(state,action)+α(reward+γmaxaQ(next state,all actions)) Where:\n",
        "\n",
        "α (alpha) is the learning rate (0<α≤1) - Just like in supervised learning settings, α is the extent to which our Q-values are being updated in every iteration.\n",
        "\n",
        "γ (gamma) is the discount factor (0≤γ≤1) - determines how much importance we want to give to future rewards. A high value for the discount factor (close to 1) captures the long-term effective award, whereas, a discount factor of 0 makes our agent consider only immediate reward, hence making it greedy."
      ]
    },
    {
      "cell_type": "code",
      "execution_count": 17,
      "metadata": {
        "colab": {
          "base_uri": "https://localhost:8080/"
        },
        "id": "MpSJmHzhhpY-",
        "outputId": "dd942f3b-1d90-4793-8de9-3fd918d481ff"
      },
      "outputs": [
        {
          "output_type": "stream",
          "name": "stdout",
          "text": [
            "Discrete(500)\n"
          ]
        }
      ],
      "source": [
        "print(env.observation_space)"
      ]
    },
    {
      "cell_type": "code",
      "execution_count": 18,
      "metadata": {
        "colab": {
          "base_uri": "https://localhost:8080/"
        },
        "id": "5w5mYI_-iE_s",
        "outputId": "6aca8529-229d-4e60-c43f-2340fa715d81"
      },
      "outputs": [
        {
          "output_type": "stream",
          "name": "stdout",
          "text": [
            "Training completed over 1000 episodes\n"
          ]
        },
        {
          "output_type": "execute_result",
          "data": {
            "text/plain": [
              "array([[  0.        ,   0.        ,   0.        ,   0.        ,\n",
              "          0.        ,   0.        ],\n",
              "       [ -3.7802152 ,  -2.45943816,  -4.03964283,  -3.80019289,\n",
              "         -1.6445568 , -11.257668  ],\n",
              "       [ -0.48859388,  -3.19134889,  -3.53003392,  -3.18699174,\n",
              "          3.192     ,  -7.5235544 ],\n",
              "       ...,\n",
              "       [ -2.88870028,  -2.88543062,  -2.93374207,  -1.15447999,\n",
              "        -11.3540976 , -12.25359726],\n",
              "       [ -3.26994459,  -3.29490829,  -3.33300639,  -1.04919711,\n",
              "        -10.797588  , -12.22486457],\n",
              "       [ -1.638     ,  -0.99      ,  -0.99      ,  14.99840998,\n",
              "         -9.        ,  -9.        ]])"
            ]
          },
          "metadata": {},
          "execution_count": 18
        }
      ],
      "source": [
        "from aidm.rl.q_learning import q_learning\n",
        "\n",
        "\n",
        "# perform q_learning\n",
        "#[best_value, best_node, best_plan, explored_count, ex_terminated] = \\\n",
        "q_learning(problem=taxi_p,learning_rate=0.9, discount_rate=0.8, epsilon=1.0, decay_rate=0.005, num_episodes=1000,\n",
        "                   max_steps_per_episode=99,  num_of_trials=100, log=False, log_file=None)"
      ]
    },
    {
      "cell_type": "code",
      "execution_count": null,
      "metadata": {
        "id": "l7G08CsHi1gC"
      },
      "outputs": [],
      "source": []
    }
  ],
  "metadata": {
    "colab": {
      "provenance": []
    },
    "kernelspec": {
      "display_name": "Python 3 (ipykernel)",
      "language": "python",
      "name": "python3"
    },
    "language_info": {
      "codemirror_mode": {
        "name": "ipython",
        "version": 3
      },
      "file_extension": ".py",
      "mimetype": "text/x-python",
      "name": "python",
      "nbconvert_exporter": "python",
      "pygments_lexer": "ipython3",
      "version": "3.9.15"
    }
  },
  "nbformat": 4,
  "nbformat_minor": 0
}